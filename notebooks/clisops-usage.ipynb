{
 "cells": [
  {
   "cell_type": "markdown",
   "metadata": {},
   "source": [
    "# Example usage of the main clisops functions\n",
    "\n",
    "## What is clisops?\n",
    "\n",
    "The climate simulations operations library, or `clisops`, is a python library for performing operations on climate data. It uses the `xarray` library to read, write and manipulate data, primarily from and to _netCDF_ files."
   ]
  },
  {
   "cell_type": "markdown",
   "metadata": {},
   "source": [
    "## Which functions does clisops expose?\n",
    "\n",
    "There is currently one high-level function fully implemented in `clisops`:\n",
    "* `subset`: for sub-setting datasets in time, level, latitude and longitude\n"
   ]
  },
  {
   "cell_type": "markdown",
   "metadata": {},
   "source": [
    "## The clisops.subset function\n",
    "\n",
    "Here are some examples of using the `clisops.subset` function. Let's start by importing `xarray` and opening a collection of netCDF files as an `xarray.Dataset`:"
   ]
  },
  {
   "cell_type": "code",
   "execution_count": null,
   "metadata": {},
   "outputs": [],
   "source": [
    "import xarray as xr\n",
    "\n",
    "# Open an xarray Dataset\n",
    "nc_files = '/badc/cmip6/data/CMIP6/CMIP/NOAA-GFDL/GFDL-ESM4/historical/r1i1p1f1/' \\\n",
    "           'Amon/o3/gr1/v20190726/*.nc'\n",
    "ds = xr.open_mfdataset(nc_files)"
   ]
  },
  {
   "cell_type": "code",
   "execution_count": null,
   "metadata": {},
   "outputs": [],
   "source": [
    "# Import the main subset function\n",
    "from clisops.ops import subset\n",
    "\n",
    "subsets = subset(ds,\n",
    "                 time='1930/1970',\n",
    "                 level='100000/100',\n",
    "                 area='0,-20,150,30',\n",
    "                 output_type=\"xarray\")\n",
    "\n",
    "# We select the first item because `subset` returns a list of outputs, and \n",
    "# we pick out ozone, as `o3`\n",
    "o3 = subsets[0].o3"
   ]
  },
  {
   "cell_type": "markdown",
   "metadata": {},
   "source": [
    "And we can operate on the subset:"
   ]
  },
  {
   "cell_type": "code",
   "execution_count": null,
   "metadata": {},
   "outputs": [],
   "source": [
    "print(f'Subset shape: {o3.shape}')\n",
    "print(f'Min, max: {float(o3.min())}, {float(o3.max())}')\n",
    "print(f'Units: {o3.units}')"
   ]
  },
  {
   "cell_type": "code",
   "execution_count": null,
   "metadata": {},
   "outputs": [],
   "source": []
  }
 ],
 "metadata": {
  "kernelspec": {
   "display_name": "Python 3 + Jaspy",
   "language": "python",
   "name": "jaspy"
  },
  "language_info": {
   "codemirror_mode": {
    "name": "ipython",
    "version": 3
   },
   "file_extension": ".py",
   "mimetype": "text/x-python",
   "name": "python",
   "nbconvert_exporter": "python",
   "pygments_lexer": "ipython3",
   "version": "3.7.1"
  }
 },
 "nbformat": 4,
 "nbformat_minor": 4
}
